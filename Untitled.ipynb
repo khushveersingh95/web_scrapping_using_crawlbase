{
 "cells": [
  {
   "cell_type": "markdown",
   "id": "409a09d6-3d15-456d-98b2-e952612a7323",
   "metadata": {},
   "source": [
    "# To understand the code given below in detail or to understand how web scraping is done in three lines, click on the link of the YouTube video"
   ]
  },
  {
   "cell_type": "code",
   "execution_count": 1,
   "id": "7ae6ed21-32ce-4a31-a804-6b4d8a10d176",
   "metadata": {},
   "outputs": [],
   "source": [
    "\n",
    "\n",
    "from urllib.request import urlopen\n",
    "from urllib.parse import quote_plus"
   ]
  },
  {
   "cell_type": "code",
   "execution_count": 3,
   "id": "f692506d-13b2-408b-8932-083c864a3bc6",
   "metadata": {},
   "outputs": [],
   "source": [
    "url=quote_plus('https://www.amazon.in/s?k=i+phone&ref=nb_sb_noss_2')\n",
    "handler=urlopen('https://api.crawlbase.com/?token={'use your token'}&pretty=true&scraper=amazon-serp&url='+url)\n",
    "data=handler.read().decode('utf-8')\n",
    "# print(handler.read().decode('utf-8'))"
   ]
  },
  {
   "cell_type": "code",
   "execution_count": 17,
   "id": "acd4544e-30d9-4e53-9bea-ac550822ca05",
   "metadata": {},
   "outputs": [],
   "source": [
    "import pandas as pd\n",
    "import json\n",
    "data_dict = json.loads(data)\n",
    "\n",
    "# Assume the JSON structure contains a list of items under a key called 'results'\n",
    "# Each item contains a 'title' key for the product name\n",
    "products = data_dict.get('body', {}).get('products', [])\n",
    "\n",
    "# Extract names\n",
    "names = [product.get('name', '') for product in products]\n",
    "prices = [product.get('rawPrice', '') for product in products]\n",
    "prime = [product.get('isPrime', '') for product in products]\n",
    "\n",
    "\n",
    "df = pd.DataFrame({\n",
    "    'Name': names,\n",
    "    'Price': prices,\n",
    "    'prime':prime,\n",
    "   \n",
    "})\n",
    "\n",
    "# Set display options to show all columns\n",
    "pd.set_option('display.max_columns', None)\n",
    "pd.set_option('display.expand_frame_repr', False)"
   ]
  },
  {
   "cell_type": "code",
   "execution_count": 18,
   "id": "ab651d4c-9433-4f9b-9c5b-c4d77703608a",
   "metadata": {},
   "outputs": [
    {
     "name": "stdout",
     "output_type": "stream",
     "text": [
      "                                                 Name    Price  prime\n",
      "0                 Apple iPhone 13 (128GB) - Starlight      NaN  False\n",
      "1                      Apple iPhone 13 (128GB) - Pink  52090.0   True\n",
      "2                      Apple iPhone 13 (128GB) - Blue  52090.0   True\n",
      "3                  Apple iPhone 13 (128GB) - Midnight  51900.0   True\n",
      "4                     Apple iPhone 13 (128GB) - Green  51900.0   True\n",
      "5                    Apple iPhone 15 (128 GB) - Black  72500.0   True\n",
      "6                     Apple iPhone 14 (128 GB) - Blue  62800.0   True\n",
      "7                     Apple iPhone 15 (128 GB) - Blue  72500.0   True\n",
      "8               Apple iPhone 15 Plus (128 GB) - Black  82000.0   True\n",
      "9                  Apple iPhone 13 (256GB) - Midnight  61390.0   True\n",
      "10                  Apple iPhone 14 (128 GB) - Purple  62800.0   True\n",
      "11                Apple iPhone 13 (256GB) - Starlight  59900.0   True\n",
      "12                     Apple iPhone 13 (256GB) - Blue  59900.0   True\n",
      "13                     Apple iPhone 13 (256GB) - Pink  59900.0   True\n",
      "14  Original Smartphone Compatible with Apple iPho...      NaN  False\n",
      "15               Apple iPhone 14 (128 GB) - Starlight  62800.0   True\n"
     ]
    }
   ],
   "source": [
    "print(df)"
   ]
  },
  {
   "cell_type": "code",
   "execution_count": null,
   "id": "d13a6aba-3d87-4e6d-a8b2-f37380c4e0e5",
   "metadata": {},
   "outputs": [],
   "source": []
  }
 ],
 "metadata": {
  "kernelspec": {
   "display_name": "Python 3 (ipykernel)",
   "language": "python",
   "name": "python3"
  },
  "language_info": {
   "codemirror_mode": {
    "name": "ipython",
    "version": 3
   },
   "file_extension": ".py",
   "mimetype": "text/x-python",
   "name": "python",
   "nbconvert_exporter": "python",
   "pygments_lexer": "ipython3",
   "version": "3.11.5"
  }
 },
 "nbformat": 4,
 "nbformat_minor": 5
}
